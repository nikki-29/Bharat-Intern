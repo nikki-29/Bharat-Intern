{
 "cells": [
  {
   "cell_type": "markdown",
   "id": "d612b9f0",
   "metadata": {},
   "source": [
    "## TASK 3 : Cat and Dog Image Classifier "
   ]
  },
  {
   "cell_type": "markdown",
   "id": "0ca98b0e",
   "metadata": {},
   "source": [
    "### Develop an image classification model to distinguish between images of cats and dogs using data science techniques in Python."
   ]
  },
  {
   "cell_type": "markdown",
   "id": "ccbecc9b",
   "metadata": {},
   "source": [
    "#### Import necessary libraries"
   ]
  },
  {
   "cell_type": "code",
   "execution_count": 1,
   "id": "2d56f8bf",
   "metadata": {},
   "outputs": [],
   "source": [
    "import os\n",
    "import numpy as np\n",
    "import matplotlib.pyplot as plt\n",
    "import cv2\n",
    "from sklearn.model_selection import train_test_split\n",
    "from sklearn.metrics import accuracy_score, confusion_matrix, classification_report\n",
    "from keras.models import Sequential\n",
    "from keras.layers import Conv2D, MaxPooling2D, Flatten, Dense, Dropout\n",
    "from keras.preprocessing.image import ImageDataGenerator"
   ]
  },
  {
   "cell_type": "markdown",
   "id": "71d222c8",
   "metadata": {},
   "source": [
    "#### Define paths to the dataset"
   ]
  },
  {
   "cell_type": "code",
   "execution_count": 2,
   "id": "595edd36",
   "metadata": {},
   "outputs": [],
   "source": [
    "train_dir = 'C:/Users/HP/Downloads/Internship Certificates/Bharat Intern/Train'\n",
    "test_dir = 'C:/Users/HP/Downloads/Internship Certificates/Bharat Intern/Test'\n",
    "cat_path = os.path.join(train_dir, 'C:/Users/HP/Downloads/Internship Certificates/Bharat Intern/Train/Cat')\n",
    "dog_path = os.path.join(train_dir, 'C:/Users/HP/Downloads/Internship Certificates/Bharat Intern/Train/Dog')"
   ]
  },
  {
   "cell_type": "markdown",
   "id": "232d2eb0",
   "metadata": {},
   "source": [
    "#### Function to load images and labels"
   ]
  },
  {
   "cell_type": "code",
   "execution_count": 3,
   "id": "0ce51e10",
   "metadata": {},
   "outputs": [],
   "source": [
    "def load_images_and_labels(cat_path, dog_path):\n",
    "    images = []\n",
    "    labels = []\n",
    "    # Load cat images\n",
    "    for img_name in os.listdir(cat_path):\n",
    "        img = cv2.imread(os.path.join(cat_path, img_name))\n",
    "        img = cv2.cvtColor(img, cv2.COLOR_BGR2RGB)  # Convert to RGB\n",
    "        img = cv2.resize(img, (100, 100))  # Resize to a common size\n",
    "        images.append(img)\n",
    "        labels.append(0)  # Cat label is 0\n",
    "    # Load dog images\n",
    "    for img_name in os.listdir(dog_path):\n",
    "        img = cv2.imread(os.path.join(dog_path, img_name))\n",
    "        img = cv2.cvtColor(img, cv2.COLOR_BGR2RGB)\n",
    "        img = cv2.resize(img, (100, 100))\n",
    "        images.append(img)\n",
    "        labels.append(1)  # Dog label is 1\n",
    "    return np.array(images), np.array(labels)"
   ]
  },
  {
   "cell_type": "markdown",
   "id": "d87b5577",
   "metadata": {},
   "source": [
    "#### Load images and labels"
   ]
  },
  {
   "cell_type": "code",
   "execution_count": 4,
   "id": "8e82c1f4",
   "metadata": {},
   "outputs": [],
   "source": [
    "X, y = load_images_and_labels(cat_path, dog_path)"
   ]
  },
  {
   "cell_type": "markdown",
   "id": "550f78b9",
   "metadata": {},
   "source": [
    "#### Split the data into train and validation sets"
   ]
  },
  {
   "cell_type": "code",
   "execution_count": 5,
   "id": "56e46324",
   "metadata": {},
   "outputs": [],
   "source": [
    "X_train, X_val, y_train, y_val = train_test_split(X, y, test_size=0.2, random_state=42)"
   ]
  },
  {
   "cell_type": "markdown",
   "id": "c42cf070",
   "metadata": {},
   "source": [
    "#### Data preprocessing and augmentation"
   ]
  },
  {
   "cell_type": "code",
   "execution_count": 6,
   "id": "4d5156f3",
   "metadata": {},
   "outputs": [],
   "source": [
    "train_datagen = ImageDataGenerator(rescale=1./255, shear_range=0.2, zoom_range=0.2, horizontal_flip=True)\n",
    "val_datagen = ImageDataGenerator(rescale=1./255)"
   ]
  },
  {
   "cell_type": "markdown",
   "id": "38a33bc7",
   "metadata": {},
   "source": [
    "#### Define the model architecture"
   ]
  },
  {
   "cell_type": "code",
   "execution_count": 7,
   "id": "3ee14255",
   "metadata": {},
   "outputs": [],
   "source": [
    "model = Sequential()\n",
    "model.add(Conv2D(32, (3, 3), input_shape=(100, 100, 3), activation='relu'))\n",
    "model.add(MaxPooling2D(pool_size=(2, 2)))\n",
    "model.add(Conv2D(64, (3, 3), activation='relu'))\n",
    "model.add(MaxPooling2D(pool_size=(2, 2)))\n",
    "model.add(Conv2D(128, (3, 3), activation='relu'))\n",
    "model.add(MaxPooling2D(pool_size=(2, 2)))\n",
    "model.add(Flatten())\n",
    "model.add(Dense(128, activation='relu'))\n",
    "model.add(Dropout(0.5))\n",
    "model.add(Dense(1, activation='sigmoid'))"
   ]
  },
  {
   "cell_type": "markdown",
   "id": "89ed4678",
   "metadata": {},
   "source": [
    "#### Compile the model"
   ]
  },
  {
   "cell_type": "code",
   "execution_count": 8,
   "id": "8d810afb",
   "metadata": {},
   "outputs": [],
   "source": [
    "model.compile(optimizer='adam', loss='binary_crossentropy', metrics=['accuracy'])"
   ]
  },
  {
   "cell_type": "markdown",
   "id": "dc635c10",
   "metadata": {},
   "source": [
    "#### Train the model"
   ]
  },
  {
   "cell_type": "code",
   "execution_count": 9,
   "id": "e3ec2581",
   "metadata": {},
   "outputs": [
    {
     "name": "stderr",
     "output_type": "stream",
     "text": [
      "<ipython-input-9-028b8f7d2ffb>:1: UserWarning: `Model.fit_generator` is deprecated and will be removed in a future version. Please use `Model.fit`, which supports generators.\n",
      "  history = model.fit_generator(train_datagen.flow(X_train, y_train, batch_size=32),\n"
     ]
    },
    {
     "name": "stdout",
     "output_type": "stream",
     "text": [
      "Epoch 1/20\n",
      "28/28 [==============================] - 8s 268ms/step - loss: 0.6965 - accuracy: 0.5364 - val_loss: 0.6880 - val_accuracy: 0.6104\n",
      "Epoch 2/20\n",
      "28/28 [==============================] - 7s 253ms/step - loss: 0.6751 - accuracy: 0.5917 - val_loss: 0.6584 - val_accuracy: 0.6753\n",
      "Epoch 3/20\n",
      "28/28 [==============================] - 7s 258ms/step - loss: 0.6493 - accuracy: 0.6482 - val_loss: 0.6654 - val_accuracy: 0.5801\n",
      "Epoch 4/20\n",
      "28/28 [==============================] - 8s 265ms/step - loss: 0.6291 - accuracy: 0.6374 - val_loss: 0.6381 - val_accuracy: 0.6710\n",
      "Epoch 5/20\n",
      "28/28 [==============================] - 8s 279ms/step - loss: 0.6134 - accuracy: 0.6710 - val_loss: 0.6388 - val_accuracy: 0.6667\n",
      "Epoch 6/20\n",
      "28/28 [==============================] - 8s 289ms/step - loss: 0.6079 - accuracy: 0.6786 - val_loss: 0.6269 - val_accuracy: 0.6753\n",
      "Epoch 7/20\n",
      "28/28 [==============================] - 8s 277ms/step - loss: 0.5961 - accuracy: 0.6764 - val_loss: 0.6679 - val_accuracy: 0.6061\n",
      "Epoch 8/20\n",
      "28/28 [==============================] - 8s 268ms/step - loss: 0.6129 - accuracy: 0.6645 - val_loss: 0.6715 - val_accuracy: 0.6190\n",
      "Epoch 9/20\n",
      "28/28 [==============================] - 8s 274ms/step - loss: 0.5899 - accuracy: 0.6992 - val_loss: 0.6305 - val_accuracy: 0.6450\n",
      "Epoch 10/20\n",
      "28/28 [==============================] - 8s 269ms/step - loss: 0.5594 - accuracy: 0.7068 - val_loss: 0.7548 - val_accuracy: 0.5801\n",
      "Epoch 11/20\n",
      "28/28 [==============================] - 8s 270ms/step - loss: 0.5917 - accuracy: 0.6938 - val_loss: 0.6180 - val_accuracy: 0.6667\n",
      "Epoch 12/20\n",
      "28/28 [==============================] - 8s 284ms/step - loss: 0.5427 - accuracy: 0.7166 - val_loss: 0.6392 - val_accuracy: 0.6926\n",
      "Epoch 13/20\n",
      "28/28 [==============================] - 13s 449ms/step - loss: 0.5404 - accuracy: 0.7242 - val_loss: 0.6632 - val_accuracy: 0.6450\n",
      "Epoch 14/20\n",
      "28/28 [==============================] - 7s 258ms/step - loss: 0.5489 - accuracy: 0.7144 - val_loss: 0.6255 - val_accuracy: 0.6840\n",
      "Epoch 15/20\n",
      "28/28 [==============================] - 12s 424ms/step - loss: 0.5123 - accuracy: 0.7492 - val_loss: 0.6076 - val_accuracy: 0.6970\n",
      "Epoch 16/20\n",
      "28/28 [==============================] - 9s 296ms/step - loss: 0.5015 - accuracy: 0.7611 - val_loss: 0.5807 - val_accuracy: 0.7056\n",
      "Epoch 17/20\n",
      "28/28 [==============================] - 8s 290ms/step - loss: 0.4532 - accuracy: 0.7872 - val_loss: 0.5888 - val_accuracy: 0.7186\n",
      "Epoch 18/20\n",
      "28/28 [==============================] - 8s 288ms/step - loss: 0.4708 - accuracy: 0.7709 - val_loss: 0.5617 - val_accuracy: 0.7229\n",
      "Epoch 19/20\n",
      "28/28 [==============================] - 8s 270ms/step - loss: 0.4412 - accuracy: 0.7959 - val_loss: 0.6051 - val_accuracy: 0.7013\n",
      "Epoch 20/20\n",
      "28/28 [==============================] - 8s 265ms/step - loss: 0.4609 - accuracy: 0.7774 - val_loss: 0.5683 - val_accuracy: 0.7143\n"
     ]
    }
   ],
   "source": [
    "history = model.fit_generator(train_datagen.flow(X_train, y_train, batch_size=32),\n",
    "                              steps_per_epoch=len(X_train)/32, epochs=20,\n",
    "                              validation_data=val_datagen.flow(X_val, y_val, batch_size=32),\n",
    "                              validation_steps=len(X_val)/32)\n"
   ]
  },
  {
   "cell_type": "markdown",
   "id": "91c01acf",
   "metadata": {},
   "source": [
    "#### Plot training history"
   ]
  },
  {
   "cell_type": "code",
   "execution_count": 10,
   "id": "992a67b3",
   "metadata": {},
   "outputs": [
    {
     "data": {
      "image/png": "[encoded data removed]",
      "text/plain": [
       "<Figure size 432x288 with 1 Axes>"
      ]
     },
     "metadata": {
      "needs_background": "light"
     },
     "output_type": "display_data"
    }
   ],
   "source": [
    "plt.plot(history.history['accuracy'], label='accuracy')\n",
    "plt.plot(history.history['val_accuracy'], label='val_accuracy')\n",
    "plt.xlabel('Epoch')\n",
    "plt.ylabel('Accuracy')\n",
    "plt.legend()\n",
    "plt.show()"
   ]
  },
  {
   "cell_type": "markdown",
   "id": "53f2e9f4",
   "metadata": {},
   "source": [
    "#### Evaluate the model"
   ]
  },
  {
   "cell_type": "code",
   "execution_count": 11,
   "id": "c63f8df7",
   "metadata": {},
   "outputs": [],
   "source": [
    "X_test = []\n",
    "y_test = []\n",
    "# Load test images\n",
    "for img_name in os.listdir(test_dir):\n",
    "    img = cv2.imread(os.path.join(test_dir, img_name))\n",
    "    img = cv2.cvtColor(img, cv2.COLOR_BGR2RGB)\n",
    "    img = cv2.resize(img, (100, 100))\n",
    "    X_test.append(img)\n",
    "    if 'cat' in img_name:\n",
    "        y_test.append(0)\n",
    "    else:\n",
    "        y_test.append(1)\n",
    "\n",
    "X_test = np.array(X_test)\n",
    "y_test = np.array(y_test)"
   ]
  },
  {
   "cell_type": "markdown",
   "id": "7ee3f020",
   "metadata": {},
   "source": [
    "#### Preprocess test data"
   ]
  },
  {
   "cell_type": "code",
   "execution_count": 12,
   "id": "6b493197",
   "metadata": {},
   "outputs": [],
   "source": [
    "X_test = X_test / 255.0"
   ]
  },
  {
   "cell_type": "markdown",
   "id": "91f45373",
   "metadata": {},
   "source": [
    "#### Make predictions"
   ]
  },
  {
   "cell_type": "code",
   "execution_count": 14,
   "id": "8ffdf1af",
   "metadata": {},
   "outputs": [
    {
     "name": "stdout",
     "output_type": "stream",
     "text": [
      "1/1 [==============================] - 0s 127ms/step\n"
     ]
    }
   ],
   "source": [
    "predictions = model.predict(X_test)\n",
    "predictions = np.round(predictions).astype(int)"
   ]
  },
  {
   "cell_type": "markdown",
   "id": "f21d82da",
   "metadata": {},
   "source": [
    "#### Calculate accuracy"
   ]
  },
  {
   "cell_type": "code",
   "execution_count": 15,
   "id": "681eeabd",
   "metadata": {},
   "outputs": [
    {
     "name": "stdout",
     "output_type": "stream",
     "text": [
      "Test Accuracy: 1.0\n"
     ]
    }
   ],
   "source": [
    "accuracy = accuracy_score(y_test, predictions)\n",
    "print(\"Test Accuracy:\", accuracy)"
   ]
  },
  {
   "cell_type": "markdown",
   "id": "608dac3d",
   "metadata": {},
   "source": [
    "#### Generate confusion matrix and classification report"
   ]
  },
  {
   "cell_type": "code",
   "execution_count": 16,
   "id": "aa74af69",
   "metadata": {},
   "outputs": [
    {
     "name": "stdout",
     "output_type": "stream",
     "text": [
      "Confusion Matrix:\n",
      "[[1 0]\n",
      " [0 1]]\n"
     ]
    }
   ],
   "source": [
    "conf_matrix = confusion_matrix(y_test, predictions)\n",
    "print(\"Confusion Matrix:\")\n",
    "print(conf_matrix)"
   ]
  },
  {
   "cell_type": "code",
   "execution_count": 17,
   "id": "3dbcada9",
   "metadata": {},
   "outputs": [
    {
     "name": "stdout",
     "output_type": "stream",
     "text": [
      "Classification Report:\n",
      "              precision    recall  f1-score   support\n",
      "\n",
      "           0       1.00      1.00      1.00         1\n",
      "           1       1.00      1.00      1.00         1\n",
      "\n",
      "    accuracy                           1.00         2\n",
      "   macro avg       1.00      1.00      1.00         2\n",
      "weighted avg       1.00      1.00      1.00         2\n",
      "\n"
     ]
    }
   ],
   "source": [
    "class_report = classification_report(y_test, predictions)\n",
    "print(\"Classification Report:\")\n",
    "print(class_report)"
   ]
  },
  {
   "cell_type": "code",
   "execution_count": null,
   "id": "5f40feb8",
   "metadata": {},
   "outputs": [],
   "source": []
  },
  {
   "cell_type": "code",
   "execution_count": null,
   "id": "5b3b0945",
   "metadata": {},
   "outputs": [],
   "source": []
  }
 ],
 "metadata": {
  "kernelspec": {
   "display_name": "Python 3",
   "language": "python",
   "name": "python3"
  },
  "language_info": {
   "codemirror_mode": {
    "name": "ipython",
    "version": 3
   },
   "file_extension": ".py",
   "mimetype": "text/x-python",
   "name": "python",
   "nbconvert_exporter": "python",
   "pygments_lexer": "ipython3",
   "version": "3.8.8"
  }
 },
 "nbformat": 4,
 "nbformat_minor": 5
}
